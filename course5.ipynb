{
  "metadata": {
    "kernelspec": {
      "name": "python",
      "display_name": "Python (Pyodide)",
      "language": "python"
    },
    "language_info": {
      "name": ""
    }
  },
  "nbformat_minor": 4,
  "nbformat": 4,
  "cells": [
    {
      "cell_type": "code",
      "source": "import yfinance as yf\n\n# Download Tesla stock data\ntesla_data = yf.download('TSLA', start='2020-01-01', end='2023-01-01')\n \n# Reset index\ntesla_data.reset_index(inplace=True)\n\n# Save the data to a CSV file\ntesla_data.to_csv('tesla_data.csv', index=False)\n\n# Display the first five rows\nprint(tesla_data.head())\n",
      "metadata": {
        "trusted": true
      },
      "outputs": [],
      "execution_count": null
    },
    {
      "cell_type": "code",
      "source": "import pandas as pd\nimport requests\nfrom bs4 import BeautifulSoup\n\n# Web scraping Tesla revenue data\nurl = 'https://www.macrotrends.net/stocks/charts/TSLA/tesla/revenue'\nresponse = requests.get(url)\nsoup = BeautifulSoup(response.text, 'html.parser')\n\n# Extract table\ntable = soup.find_all('table')[1]\nrows = table.find_all('tr')\n\n# Parse the table\ndata = []\nfor row in rows:\n    cols = row.find_all('td')\n    cols = [col.text.strip() for col in cols]\n    data.append(cols)\n\n# Create DataFrame\ntesla_revenue = pd.DataFrame(data[1:], columns=data[0])\n\n# Display the last five rows\nprint(tesla_revenue.tail())\n",
      "metadata": {
        "trusted": true
      },
      "outputs": [],
      "execution_count": null
    },
    {
      "cell_type": "code",
      "source": "# Download GameStop stock data\ngme_data = yf.download('GME', start='2020-01-01', end='2023-01-01')\n\n# Reset index\ngme_data.reset_index(inplace=True)\n\n# Save the data to a CSV file\ngme_data.to_csv('gme_data.csv', index=False)\n\n# Display the first five rows\nprint(gme_data.head())\n",
      "metadata": {
        "trusted": true
      },
      "outputs": [],
      "execution_count": null
    },
    {
      "cell_type": "code",
      "source": "# Web scraping GameStop revenue data\nurl = 'https://www.macrotrends.net/stocks/charts/GME/gamestop/revenue'\nresponse = requests.get(url)\nsoup = BeautifulSoup(response.text, 'html.parser')\n\n# Extract table\ntable = soup.find_all('table')[1]\nrows = table.find_all('tr')\n\n# Parse the table\ndata = []\nfor row in rows:\n    cols = row.find_all('td')\n    cols = [col.text.strip() for col in cols]\n    data.append(cols)\n\n# Create DataFrame\ngme_revenue = pd.DataFrame(data[1:], columns=data[0])\n\n# Display the last five rows\nprint(gme_revenue.tail())\n",
      "metadata": {
        "trusted": true
      },
      "outputs": [],
      "execution_count": null
    },
    {
      "cell_type": "code",
      "source": "import matplotlib.pyplot as plt\n\ndef make_graph(data, title):\n    plt.figure(figsize=(10, 5))\n    plt.plot(data['Date'], data['Close'])\n    plt.title(title)\n    plt.xlabel('Date')\n    plt.ylabel('Closing Price')\n    plt.grid(True)\n    plt.show()\n\n# Plot Tesla stock data\nmake_graph(tesla_data, 'Tesla Stock Closing Prices')\n",
      "metadata": {
        "trusted": true
      },
      "outputs": [],
      "execution_count": null
    },
    {
      "cell_type": "code",
      "source": "# Plot GameStop stock data\nmake_graph(gme_data, 'GameStop Stock Closing Prices')\n",
      "metadata": {
        "trusted": true
      },
      "outputs": [],
      "execution_count": null
    }
  ]
}